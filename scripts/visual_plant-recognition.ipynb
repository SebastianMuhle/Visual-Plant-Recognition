{
 "cells": [
  {
   "cell_type": "markdown",
   "id": "d7d86ed2",
   "metadata": {},
   "source": [
    "# Visual Plant Recognition\n",
    "\n",
    "This Jupyter Notebook uses a pre-trained Inception v3 architecture to train on the [Oxford 102 dataset](https://www.robots.ox.ac.uk/~vgg/data/flowers/102/). The dataset consists of 102 different plants. PyTorch is used as a framework."
   ]
  },
  {
   "cell_type": "markdown",
   "id": "7df652aa",
   "metadata": {},
   "source": [
    "#### Dataset Loading"
   ]
  },
  {
   "cell_type": "code",
   "execution_count": 7,
   "id": "e5fca156",
   "metadata": {},
   "outputs": [],
   "source": [
    "from pathlib import Path\n",
    "from helper import convert_mat_to_csv"
   ]
  },
  {
   "cell_type": "code",
   "execution_count": 10,
   "id": "37eab17a",
   "metadata": {},
   "outputs": [],
   "source": [
    "path_image_labels = \"../dataset/imagelabels.csv\"\n",
    "path_set_id = \"../dataset/setid.csv\"\n",
    "if not(Path(path_image_labels).exists()):\n",
    "    convert_mat_to_csv(\"../dataset/imagelabels.mat\")\n",
    "    print(\"Created image labels\")\n",
    "if not(Path(path_set_id).exists()):    \n",
    "    convert_mat_to_csv(\"../dataset/setid.mat\")\n",
    "    print(\"Created set id\")"
   ]
  },
  {
   "cell_type": "code",
   "execution_count": null,
   "id": "42ef35c1",
   "metadata": {},
   "outputs": [],
   "source": []
  }
 ],
 "metadata": {
  "kernelspec": {
   "display_name": "Python 3 (ipykernel)",
   "language": "python",
   "name": "python3"
  },
  "language_info": {
   "codemirror_mode": {
    "name": "ipython",
    "version": 3
   },
   "file_extension": ".py",
   "mimetype": "text/x-python",
   "name": "python",
   "nbconvert_exporter": "python",
   "pygments_lexer": "ipython3",
   "version": "3.9.11"
  }
 },
 "nbformat": 4,
 "nbformat_minor": 5
}

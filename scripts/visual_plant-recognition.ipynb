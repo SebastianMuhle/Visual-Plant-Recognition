{
 "cells": [
  {
   "cell_type": "markdown",
   "id": "d7d86ed2",
   "metadata": {},
   "source": [
    "# Visual Plant Recognition\n",
    "\n",
    "This Jupyter Notebook uses a pre-trained ResNet-152 architecture to train on the [Oxford 102 dataset](https://www.robots.ox.ac.uk/~vgg/data/flowers/102/). The dataset consists of 102 different plants. PyTorch is used as a framework."
   ]
  },
  {
   "cell_type": "markdown",
   "id": "7df652aa",
   "metadata": {},
   "source": [
    "#### Dataset Loading"
   ]
  },
  {
   "cell_type": "code",
   "execution_count": null,
   "id": "e5fca156",
   "metadata": {},
   "outputs": [],
   "source": []
  }
 ],
 "metadata": {
  "kernelspec": {
   "display_name": "Python 3 (ipykernel)",
   "language": "python",
   "name": "python3"
  },
  "language_info": {
   "codemirror_mode": {
    "name": "ipython",
    "version": 3
   },
   "file_extension": ".py",
   "mimetype": "text/x-python",
   "name": "python",
   "nbconvert_exporter": "python",
   "pygments_lexer": "ipython3",
   "version": "3.9.11"
  }
 },
 "nbformat": 4,
 "nbformat_minor": 5
}

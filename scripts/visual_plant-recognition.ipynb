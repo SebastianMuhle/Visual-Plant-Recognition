{
 "cells": [
  {
   "cell_type": "markdown",
   "id": "d7d86ed2",
   "metadata": {},
   "source": [
    "# Visual Plant Recognition\n",
    "\n",
    "This Jupyter Notebook uses a pre-trained Inception v3 architecture to train on the [Oxford 102 dataset](https://www.robots.ox.ac.uk/~vgg/data/flowers/102/). The dataset consists of 102 different plants. PyTorch is used as a framework."
   ]
  },
  {
   "cell_type": "markdown",
   "id": "7df652aa",
   "metadata": {},
   "source": [
    "#### Dataset Loading"
   ]
  },
  {
   "cell_type": "code",
   "execution_count": 7,
   "id": "e5fca156",
   "metadata": {},
   "outputs": [],
   "source": [
    "from pathlib import Path\n",
    "from helper import convert_mat_to_csv"
   ]
  },
  {
   "cell_type": "code",
   "execution_count": 12,
   "id": "e26dc262",
   "metadata": {},
   "outputs": [
    {
     "name": "stdout",
     "output_type": "stream",
     "text": [
      "Image labels already exist as csv\n",
      "Set id already exist as csv\n"
     ]
    }
   ],
   "source": [
    "path_dataset = Path(\"../dataset/\")\n",
    "if not(path_dataset.joinpath(\"imagelabels.csv\").exists()):\n",
    "    convert_mat_to_csv(path_dataset.joinpath(\"imagelabels.mat\"))\n",
    "    print(\"Created image labels\")\n",
    "else: \n",
    "    print(\"Image labels already exist as csv\")\n",
    "if not(path_dataset.joinpath(\"setid.csv\").exists()):    \n",
    "    convert_mat_to_csv(path_dataset.joinpath(\"setid.mat\"))\n",
    "    print(\"Created set id\")\n",
    "else: \n",
    "    print(\"Set id already exist as csv\")"
   ]
  },
  {
   "cell_type": "code",
   "execution_count": null,
   "id": "846e714a",
   "metadata": {},
   "outputs": [],
   "source": []
  }
 ],
 "metadata": {
  "kernelspec": {
   "display_name": "Python 3 (ipykernel)",
   "language": "python",
   "name": "python3"
  },
  "language_info": {
   "codemirror_mode": {
    "name": "ipython",
    "version": 3
   },
   "file_extension": ".py",
   "mimetype": "text/x-python",
   "name": "python",
   "nbconvert_exporter": "python",
   "pygments_lexer": "ipython3",
   "version": "3.9.11"
  }
 },
 "nbformat": 4,
 "nbformat_minor": 5
}

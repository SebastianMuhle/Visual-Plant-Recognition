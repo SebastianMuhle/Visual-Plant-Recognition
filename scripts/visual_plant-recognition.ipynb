{
 "cells": [
  {
   "cell_type": "markdown",
   "id": "d7d86ed2",
   "metadata": {},
   "source": [
    "# Visual Plant Recognition\n",
    "\n",
    "This Jupyter Notebook uses a pre-trained Inception v3 architecture to train on the [Oxford 102 dataset](https://www.robots.ox.ac.uk/~vgg/data/flowers/102/). The dataset consists of 102 different plants. PyTorch is used as a framework."
   ]
  },
  {
   "cell_type": "markdown",
   "id": "7df652aa",
   "metadata": {},
   "source": [
    "## Dataset Loading"
   ]
  },
  {
   "cell_type": "markdown",
   "id": "61fe1035",
   "metadata": {},
   "source": [
    "Importing all the necessary frameworks, libraries and classes"
   ]
  },
  {
   "cell_type": "code",
   "execution_count": null,
   "id": "e5fca156",
   "metadata": {},
   "outputs": [],
   "source": [
    "from pathlib import Path\n",
    "from matplotlib import pyplot as plt\n",
    "from torchvision import transforms, utils, datasets\n",
    "from torch.utils.data import Dataset, DataLoader, random_split\n",
    "from sklearn.model_selection import KFold\n",
    "import numpy as np\n",
    "import torch\n",
    "import torch.nn as nn\n",
    "import torch.optim as optim\n",
    "\n",
    "from helper import convert_mat_to_csv, progress_bar\n",
    "from dataset_loader import Oxford102Dataset, Rescale, RandomCrop, ToTensor, Normalize\n",
    "from visualization import image_visualization, batch_visualization\n",
    "from model import SimpleNet, resNet_152\n",
    "from training import train_epoch"
   ]
  },
  {
   "cell_type": "markdown",
   "id": "ecff2d1f",
   "metadata": {},
   "source": [
    "Converting the MatLab files with the labels into a csv"
   ]
  },
  {
   "cell_type": "code",
   "execution_count": null,
   "id": "a17068ef",
   "metadata": {},
   "outputs": [],
   "source": [
    "path_dataset = Path(\"../dataset/\")\n",
    "if not(path_dataset.joinpath(\"imagelabels.csv\").exists()):\n",
    "    convert_mat_to_csv(path_dataset.joinpath(\"imagelabels.mat\"))\n",
    "    print(\"Created image labels\")\n",
    "else: \n",
    "    print(\"Image labels already exist as csv\")\n",
    "if not(path_dataset.joinpath(\"setid.csv\").exists()):    \n",
    "    convert_mat_to_csv(path_dataset.joinpath(\"setid.mat\"))\n",
    "    print(\"Created set id\")\n",
    "else: \n",
    "    print(\"Set id already exist as csv\")"
   ]
  },
  {
   "cell_type": "code",
   "execution_count": null,
   "id": "823898f1",
   "metadata": {},
   "outputs": [],
   "source": [
    "oxford102Dataset = Oxford102Dataset(csv_file='../dataset/imagelabels.csv',\n",
    "                                    dataset_dir='../dataset/')\n",
    "\n",
    "batch_visualization(oxford102Dataset, (1, 5), (15, 4))\n",
    "    \n"
   ]
  },
  {
   "cell_type": "code",
   "execution_count": null,
   "id": "47df9ad0",
   "metadata": {},
   "outputs": [],
   "source": [
    "scale = Rescale(330)\n",
    "crop = RandomCrop(299)\n",
    "composed = transforms.Compose([Rescale(330),\n",
    "                               RandomCrop(299)])\n",
    "\n",
    "# Apply each of the above transforms on sample.\n",
    "fig = plt.figure()\n",
    "sample = oxford102Dataset[65]\n",
    "for i, tsfrm in enumerate([scale, crop, composed]):\n",
    "    transformed_sample = tsfrm(sample)\n",
    "    image_visualization(transformed_sample['image'], sample['plant_label'])\n",
    "\n",
    "\n",
    "plt.show()"
   ]
  },
  {
   "cell_type": "markdown",
   "id": "add6a83f",
   "metadata": {},
   "source": [
    "Putting everything together and iterating trough the dataset with dataloader"
   ]
  },
  {
   "cell_type": "markdown",
   "id": "5d626056",
   "metadata": {},
   "source": [
    "Loading the Oxford 102 Dataset with a custome dataloader and visualise it"
   ]
  },
  {
   "cell_type": "code",
   "execution_count": null,
   "id": "25b29bdb",
   "metadata": {},
   "outputs": [],
   "source": [
    "transformed_dataset = Oxford102Dataset(csv_file='../dataset/imagelabels.csv',\n",
    "                                    dataset_dir='../dataset/', transform=transforms.Compose([\n",
    "        RandomCrop(224),\n",
    "        ToTensor(),\n",
    "        Normalize()]))\n",
    "\n",
    "train_len = int(0.8 * len(transformed_dataset))\n",
    "train_data, test_data = random_split(transformed_dataset, [train_len, \n",
    "                                                           len(transformed_dataset)-train_len], \n",
    "                                                             generator=torch.Generator().manual_seed(1))\n",
    "train_dataloader = DataLoader(train_data, batch_size=32,\n",
    "                        shuffle=True, num_workers=4)\n",
    "test_dataloader = DataLoader(test_data, batch_size=32,\n",
    "                        shuffle=True, num_workers=4)"
   ]
  },
  {
   "cell_type": "markdown",
   "id": "ee3cd0bd",
   "metadata": {},
   "source": [
    "## Training"
   ]
  },
  {
   "cell_type": "code",
   "execution_count": null,
   "id": "4a1b9314",
   "metadata": {},
   "outputs": [],
   "source": [
    "# instanciate model\n",
    "model = SimpleNet()\n",
    "\n",
    "# move tensors to GPU if CUDA is available\n",
    "use_cuda = torch.cuda.is_available()\n",
    "if use_cuda:\n",
    "    model_scratch.cuda()\n",
    "    \n",
    "# loss function\n",
    "loss_function = nn.CrossEntropyLoss()\n",
    "\n",
    "# optimizer\n",
    "optimizer = optim.Adam(model.parameters(), lr=5e-6)"
   ]
  },
  {
   "cell_type": "code",
   "execution_count": null,
   "id": "2b6bae32",
   "metadata": {},
   "outputs": [],
   "source": [
    "def init_weights(m):\n",
    "    if isinstance(m, nn.Conv2d) or isinstance(m, nn.Linear):\n",
    "        torch.nn.init.xavier_uniform(m.weight.data)"
   ]
  },
  {
   "cell_type": "code",
   "execution_count": null,
   "id": "8cf96dab",
   "metadata": {},
   "outputs": [],
   "source": [
    "def train(n_epochs, train_dataset, model, optimizer, loss_function, use_cuda, batch_size=32, k_splits = 5):\n",
    "    best_model_wts = copy.deepcopy(model.state_dict())\n",
    "    best_acc = 0.0\n",
    "    p_bar = progress_bar(int(len(train_dataset) * (k_splits - 1) / (k_splits * batch_size)))\n",
    "    p_bar['progress'].initialize()\n",
    "    kfold = KFold(n_splits=k_splits, shuffle=True, random_state=1)\n",
    "    for fold, (train_idx, test_idx) in enumerate(kfold.split(np.arange(len(train_dataset)))):\n",
    "        p_bar['split'](fold + 1)\n",
    "        train_subsampler = torch.utils.data.SubsetRandomSampler(train_idx)\n",
    "        vaild_subsampler = torch.utils.data.SubsetRandomSampler(test_idx)\n",
    "\n",
    "        train_dataloader = DataLoader(train_dataset, batch_size=batch_size, sampler=train_subsampler)\n",
    "        valid_dataloader = DataLoader(train_dataset, batch_size=batch_size, sampler=valid_subsampler)\n",
    "        \n",
    "        model.apply(init_weights)\n",
    "\n",
    "        for epoch in range(1, n_epochs+1):\n",
    "            p_bar['epoch'](epoch)\n",
    "            train_epoch(model, train_dataloader, optimizer, loss_function, use_cuda, p_bar)\n",
    "            loss, accuracy = evaluation(model, train_dataloader, loss_function, use_cuda)\n",
    "            \n",
    "\n",
    "            p_bar['loss'](loss)\n",
    "            p_bar['acc'](accuracy)\n",
    "            p_bar['progress'].update(step=1)\n",
    "            p_bar['progress'].set_cursor_position()\n",
    "            \n",
    "            \n",
    "        valid_loss, valid_accuracy = evaluation(model, valid_dataloader, loss_function, use_cuda)\n",
    "        if  valid_accuracy > best_acc:\n",
    "                best_acc = epoch_acc\n",
    "                best_model_wts = copy.deepcopy(model.state_dict())\n",
    "                print(\"Saved model\")\n",
    "    return model\n"
   ]
  },
  {
   "cell_type": "code",
   "execution_count": null,
   "id": "e04c2acd",
   "metadata": {},
   "outputs": [],
   "source": [
    "# train the model\n",
    "model_scratch = train(2, train_data, model, optimizer, \n",
    "                      loss_function, use_cuda, k_splits=3)"
   ]
  },
  {
   "cell_type": "code",
   "execution_count": null,
   "id": "ac76b679",
   "metadata": {},
   "outputs": [],
   "source": [
    "model_resnet152 = resNet_152(1000)"
   ]
  },
  {
   "cell_type": "code",
   "execution_count": null,
   "id": "05697518",
   "metadata": {},
   "outputs": [],
   "source": []
  }
 ],
 "metadata": {
  "kernelspec": {
   "display_name": "Python 3 (ipykernel)",
   "language": "python",
   "name": "python3"
  },
  "language_info": {
   "codemirror_mode": {
    "name": "ipython",
    "version": 3
   },
   "file_extension": ".py",
   "mimetype": "text/x-python",
   "name": "python",
   "nbconvert_exporter": "python",
   "pygments_lexer": "ipython3",
   "version": "3.9.11"
  }
 },
 "nbformat": 4,
 "nbformat_minor": 5
}
